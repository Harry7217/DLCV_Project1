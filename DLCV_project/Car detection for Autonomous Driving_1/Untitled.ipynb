{
 "cells": [
  {
   "cell_type": "code",
   "execution_count": 7,
   "id": "43f4b34f",
   "metadata": {},
   "outputs": [],
   "source": [
    "\n",
    "import cv2\n",
    " \n"
   ]
  },
  {
   "cell_type": "code",
   "execution_count": 5,
   "id": "54c2ecf8",
   "metadata": {},
   "outputs": [],
   "source": [
    "# Opens the inbuilt camera of laptop to capture video.\n",
    "cap =  cv2.VideoCapture('video.mp4')\n",
    "i = 0\n",
    " \n",
    "while(cap.isOpened()):\n",
    "    ret, frame = cap.read()\n",
    "     \n",
    "    # This condition prevents from infinite looping\n",
    "    # incase video ends.\n",
    "    if ret == False:\n",
    "        break\n",
    "     \n",
    "    # Save Frame by Frame into disk using imwrite method\n",
    "    cv2.imwrite('input/'+'Frame'+str(i)+'.jpg', frame)\n",
    "    i += 1\n",
    " \n",
    "cap.release()\n",
    "import os"
   ]
  },
  {
   "cell_type": "code",
   "execution_count": 9,
   "id": "ed1e3b28",
   "metadata": {},
   "outputs": [
    {
     "name": "stdout",
     "output_type": "stream",
     "text": [
      "['0001_annotated.jpg', '0002_annotated.jpg', '0003_annotated.jpg', '0004_annotated.jpg', '0005_annotated.jpg', '0006_annotated.jpg', '0007_annotated.jpg', '0008_annotated.jpg', '0009_annotated.jpg', '0010_annotated.jpg', '0011_annotated.jpg', '0012_annotated.jpg', '0013_annotated.jpg', '0014_annotated.jpg', '0015_annotated.jpg', '0016_annotated.jpg', '0017_annotated.jpg', '0018_annotated.jpg', '0019_annotated.jpg', '0020_annotated.jpg', '0021_annotated.jpg', '0022_annotated.jpg', '0023_annotated.jpg', '0024_annotated.jpg', '0025_annotated.jpg', '0026_annotated.jpg', '0027_annotated.jpg', '0028_annotated.jpg', '0029_annotated.jpg', '0030_annotated.jpg', '0031_annotated.jpg', '0032_annotated.jpg', '0033_annotated.jpg', '0034_annotated.jpg', '0035_annotated.jpg', '0036_annotated.jpg', '0037_annotated.jpg', '0038_annotated.jpg', '0039_annotated.jpg', '0040_annotated.jpg', '0041_annotated.jpg', '0042_annotated.jpg', '0043_annotated.jpg', '0044_annotated.jpg', '0045_annotated.jpg', '0046_annotated.jpg', '0047_annotated.jpg', '0048_annotated.jpg', '0049_annotated.jpg', '0050_annotated.jpg', '0051_annotated.jpg', '0052_annotated.jpg', '0053_annotated.jpg', '0054_annotated.jpg', '0055_annotated.jpg', '0056_annotated.jpg', '0057_annotated.jpg', '0058_annotated.jpg', '0059_annotated.jpg', '0060_annotated.jpg', '0061_annotated.jpg', '0062_annotated.jpg', '0063_annotated.jpg', '0064_annotated.jpg', '0065_annotated.jpg', '0066_annotated.jpg', '0067_annotated.jpg', '0068_annotated.jpg', '0069_annotated.jpg', '0070_annotated.jpg', '0071_annotated.jpg', '0072_annotated.jpg', '0073_annotated.jpg', '0074_annotated.jpg', '0075_annotated.jpg', '0076_annotated.jpg', '0077_annotated.jpg', '0078_annotated.jpg', '0079_annotated.jpg', '0080_annotated.jpg', '0081_annotated.jpg', '0082_annotated.jpg', '0083_annotated.jpg', '0084_annotated.jpg', '0085_annotated.jpg', '0086_annotated.jpg', '0087_annotated.jpg', '0088_annotated.jpg', '0089_annotated.jpg', '0090_annotated.jpg', '0091_annotated.jpg', '0092_annotated.jpg', '0093_annotated.jpg', '0094_annotated.jpg', '0095_annotated.jpg', '0096_annotated.jpg', '0097_annotated.jpg', '0098_annotated.jpg', '0099_annotated.jpg', '0100_annotated.jpg', '0101_annotated.jpg', '0102_annotated.jpg', '0103_annotated.jpg', '0104_annotated.jpg', '0105_annotated.jpg', '0106_annotated.jpg', '0107_annotated.jpg', '0108_annotated.jpg', '0109_annotated.jpg', '0110_annotated.jpg', '0111_annotated.jpg', '0112_annotated.jpg', '0113_annotated.jpg', '0114_annotated.jpg', '0115_annotated.jpg', '0116_annotated.jpg', '0117_annotated.jpg', '0118_annotated.jpg', '0119_annotated.jpg', '0120_annotated.jpg', 'giraffe_annotated.jpg', 'image_annotated.jpg', 'test_annotated.jpg']\n"
     ]
    },
    {
     "ename": "error",
     "evalue": "OpenCV(4.5.5) D:\\a\\opencv-python\\opencv-python\\opencv\\modules\\highgui\\src\\window.cpp:1262: error: (-2:Unspecified error) The function is not implemented. Rebuild the library with Windows, GTK+ 2.x or Cocoa support. If you are on Ubuntu or Debian, install libgtk2.0-dev and pkg-config, then re-run cmake or configure script in function 'cvDestroyAllWindows'\n",
     "output_type": "error",
     "traceback": [
      "\u001b[1;31m---------------------------------------------------------------------------\u001b[0m",
      "\u001b[1;31merror\u001b[0m                                     Traceback (most recent call last)",
      "\u001b[1;32m~\\AppData\\Local\\Temp/ipykernel_25388/3493560696.py\u001b[0m in \u001b[0;36m<module>\u001b[1;34m\u001b[0m\n\u001b[0;32m     27\u001b[0m \u001b[1;33m\u001b[0m\u001b[0m\n\u001b[0;32m     28\u001b[0m \u001b[1;31m# Calling the generate_video function\u001b[0m\u001b[1;33m\u001b[0m\u001b[1;33m\u001b[0m\u001b[1;33m\u001b[0m\u001b[0m\n\u001b[1;32m---> 29\u001b[1;33m \u001b[0mgenerate_video\u001b[0m\u001b[1;33m(\u001b[0m\u001b[1;33m)\u001b[0m\u001b[1;33m\u001b[0m\u001b[1;33m\u001b[0m\u001b[0m\n\u001b[0m",
      "\u001b[1;32m~\\AppData\\Local\\Temp/ipykernel_25388/3493560696.py\u001b[0m in \u001b[0;36mgenerate_video\u001b[1;34m()\u001b[0m\n\u001b[0;32m     22\u001b[0m \u001b[1;33m\u001b[0m\u001b[0m\n\u001b[0;32m     23\u001b[0m     \u001b[1;31m# Deallocating memories taken for window creation\u001b[0m\u001b[1;33m\u001b[0m\u001b[1;33m\u001b[0m\u001b[1;33m\u001b[0m\u001b[0m\n\u001b[1;32m---> 24\u001b[1;33m     \u001b[0mcv2\u001b[0m\u001b[1;33m.\u001b[0m\u001b[0mdestroyAllWindows\u001b[0m\u001b[1;33m(\u001b[0m\u001b[1;33m)\u001b[0m\u001b[1;33m\u001b[0m\u001b[1;33m\u001b[0m\u001b[0m\n\u001b[0m\u001b[0;32m     25\u001b[0m     \u001b[0mvideo\u001b[0m\u001b[1;33m.\u001b[0m\u001b[0mrelease\u001b[0m\u001b[1;33m(\u001b[0m\u001b[1;33m)\u001b[0m  \u001b[1;31m# releasing the video generated\u001b[0m\u001b[1;33m\u001b[0m\u001b[1;33m\u001b[0m\u001b[0m\n\u001b[0;32m     26\u001b[0m \u001b[1;33m\u001b[0m\u001b[0m\n",
      "\u001b[1;31merror\u001b[0m: OpenCV(4.5.5) D:\\a\\opencv-python\\opencv-python\\opencv\\modules\\highgui\\src\\window.cpp:1262: error: (-2:Unspecified error) The function is not implemented. Rebuild the library with Windows, GTK+ 2.x or Cocoa support. If you are on Ubuntu or Debian, install libgtk2.0-dev and pkg-config, then re-run cmake or configure script in function 'cvDestroyAllWindows'\n"
     ]
    }
   ],
   "source": [
    "def generate_video():\n",
    "    image_folder = 'out/' # make sure to use your folder\n",
    "    video_name = 'mygeneratedvideo.avi'\n",
    "      \n",
    "    images = [img for img in os.listdir(image_folder)]\n",
    "     \n",
    "    # Array images should only consider\n",
    "    # the image files ignoring others if any\n",
    "    #print(images) \n",
    "  \n",
    "    frame = cv2.imread(os.path.join(image_folder, images[0]))\n",
    "  \n",
    "    # setting the frame width, height width\n",
    "    # the width, height of first image\n",
    "    height, width, layers = frame.shape  \n",
    "  \n",
    "    video = cv2.VideoWriter(video_name, 0, 1, (width, height)) \n",
    "  \n",
    "    # Appending the images to the video one by one\n",
    "    for image in images: \n",
    "        video.write(cv2.imread(os.path.join(image_folder, image))) \n",
    "      \n",
    "    # Deallocating memories taken for window creation\n",
    "    video.release()  # releasing the video generated\n",
    "  \n",
    "  \n",
    "# Calling the generate_video function\n",
    "generate_video()"
   ]
  },
  {
   "cell_type": "code",
   "execution_count": null,
   "id": "76e075be",
   "metadata": {},
   "outputs": [],
   "source": []
  }
 ],
 "metadata": {
  "kernelspec": {
   "display_name": "Python 3 (ipykernel)",
   "language": "python",
   "name": "python3"
  },
  "language_info": {
   "codemirror_mode": {
    "name": "ipython",
    "version": 3
   },
   "file_extension": ".py",
   "mimetype": "text/x-python",
   "name": "python",
   "nbconvert_exporter": "python",
   "pygments_lexer": "ipython3",
   "version": "3.8.12"
  }
 },
 "nbformat": 4,
 "nbformat_minor": 5
}
